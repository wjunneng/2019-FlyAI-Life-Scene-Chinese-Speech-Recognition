{
 "cells": [
  {
   "cell_type": "code",
   "execution_count": 16,
   "metadata": {
    "collapsed": true,
    "pycharm": {
     "is_executing": false
    }
   },
   "outputs": [],
   "source": [
    "import os\n",
    "wav_path = '/home/wjunneng/Ubuntu/2019-FlyAI-Life-Scene-Chinese-Speech-Recognition/SincNet/data/input/wav'\n",
    "\n",
    "wav_file_list = os.listdir(wav_path)"
   ]
  },
  {
   "cell_type": "code",
   "execution_count": 17,
   "outputs": [
    {
     "name": "stdout",
     "text": [
      "_wave_params(nchannels=1, sampwidth=2, framerate=48000, nframes=432000, comptype='NONE', compname='not compressed')\n",
      "_wave_params(nchannels=1, sampwidth=2, framerate=48000, nframes=489600, comptype='NONE', compname='not compressed')\n",
      "_wave_params(nchannels=1, sampwidth=2, framerate=48000, nframes=162432, comptype='NONE', compname='not compressed')\n",
      "_wave_params(nchannels=1, sampwidth=2, framerate=48000, nframes=162432, comptype='NONE', compname='not compressed')\n",
      "_wave_params(nchannels=1, sampwidth=2, framerate=48000, nframes=256896, comptype='NONE', compname='not compressed')\n",
      "_wave_params(nchannels=1, sampwidth=2, framerate=48000, nframes=407808, comptype='NONE', compname='not compressed')\n",
      "_wave_params(nchannels=1, sampwidth=2, framerate=48000, nframes=177408, comptype='NONE', compname='not compressed')\n",
      "_wave_params(nchannels=1, sampwidth=2, framerate=48000, nframes=392832, comptype='NONE', compname='not compressed')\n",
      "_wave_params(nchannels=1, sampwidth=2, framerate=48000, nframes=321408, comptype='NONE', compname='not compressed')\n",
      "_wave_params(nchannels=1, sampwidth=2, framerate=48000, nframes=167040, comptype='NONE', compname='not compressed')\n",
      "_wave_params(nchannels=1, sampwidth=2, framerate=48000, nframes=217728, comptype='NONE', compname='not compressed')\n",
      "_wave_params(nchannels=1, sampwidth=2, framerate=48000, nframes=425088, comptype='NONE', compname='not compressed')\n",
      "_wave_params(nchannels=1, sampwidth=2, framerate=48000, nframes=185472, comptype='NONE', compname='not compressed')\n",
      "_wave_params(nchannels=1, sampwidth=2, framerate=48000, nframes=405504, comptype='NONE', compname='not compressed')\n",
      "_wave_params(nchannels=1, sampwidth=2, framerate=48000, nframes=156672, comptype='NONE', compname='not compressed')\n",
      "_wave_params(nchannels=1, sampwidth=2, framerate=48000, nframes=415872, comptype='NONE', compname='not compressed')\n",
      "_wave_params(nchannels=1, sampwidth=2, framerate=48000, nframes=202752, comptype='NONE', compname='not compressed')\n",
      "_wave_params(nchannels=1, sampwidth=2, framerate=48000, nframes=422784, comptype='NONE', compname='not compressed')\n",
      "_wave_params(nchannels=1, sampwidth=2, framerate=48000, nframes=375552, comptype='NONE', compname='not compressed')\n",
      "_wave_params(nchannels=1, sampwidth=2, framerate=48000, nframes=422784, comptype='NONE', compname='not compressed')\n",
      "_wave_params(nchannels=1, sampwidth=2, framerate=48000, nframes=266112, comptype='NONE', compname='not compressed')\n",
      "_wave_params(nchannels=1, sampwidth=2, framerate=48000, nframes=220032, comptype='NONE', compname='not compressed')\n",
      "_wave_params(nchannels=1, sampwidth=2, framerate=48000, nframes=252288, comptype='NONE', compname='not compressed')\n",
      "_wave_params(nchannels=1, sampwidth=2, framerate=48000, nframes=322560, comptype='NONE', compname='not compressed')\n",
      "_wave_params(nchannels=1, sampwidth=2, framerate=48000, nframes=138240, comptype='NONE', compname='not compressed')\n",
      "_wave_params(nchannels=1, sampwidth=2, framerate=48000, nframes=218880, comptype='NONE', compname='not compressed')\n",
      "_wave_params(nchannels=1, sampwidth=2, framerate=48000, nframes=461952, comptype='NONE', compname='not compressed')\n",
      "_wave_params(nchannels=1, sampwidth=2, framerate=48000, nframes=127872, comptype='NONE', compname='not compressed')\n",
      "_wave_params(nchannels=1, sampwidth=2, framerate=48000, nframes=377856, comptype='NONE', compname='not compressed')\n",
      "_wave_params(nchannels=1, sampwidth=2, framerate=48000, nframes=237312, comptype='NONE', compname='not compressed')\n",
      "_wave_params(nchannels=1, sampwidth=2, framerate=48000, nframes=390528, comptype='NONE', compname='not compressed')\n",
      "_wave_params(nchannels=1, sampwidth=2, framerate=48000, nframes=202752, comptype='NONE', compname='not compressed')\n",
      "_wave_params(nchannels=1, sampwidth=2, framerate=48000, nframes=263808, comptype='NONE', compname='not compressed')\n",
      "_wave_params(nchannels=1, sampwidth=2, framerate=48000, nframes=315648, comptype='NONE', compname='not compressed')\n",
      "_wave_params(nchannels=1, sampwidth=2, framerate=48000, nframes=352512, comptype='NONE', compname='not compressed')\n",
      "_wave_params(nchannels=1, sampwidth=2, framerate=48000, nframes=223488, comptype='NONE', compname='not compressed')\n",
      "_wave_params(nchannels=1, sampwidth=2, framerate=48000, nframes=482688, comptype='NONE', compname='not compressed')\n",
      "_wave_params(nchannels=1, sampwidth=2, framerate=48000, nframes=286848, comptype='NONE', compname='not compressed')\n",
      "_wave_params(nchannels=1, sampwidth=2, framerate=48000, nframes=263808, comptype='NONE', compname='not compressed')\n",
      "_wave_params(nchannels=1, sampwidth=2, framerate=48000, nframes=408960, comptype='NONE', compname='not compressed')\n",
      "_wave_params(nchannels=1, sampwidth=2, framerate=48000, nframes=176256, comptype='NONE', compname='not compressed')\n",
      "_wave_params(nchannels=1, sampwidth=2, framerate=48000, nframes=457344, comptype='NONE', compname='not compressed')\n",
      "_wave_params(nchannels=1, sampwidth=2, framerate=48000, nframes=453888, comptype='NONE', compname='not compressed')\n",
      "_wave_params(nchannels=1, sampwidth=2, framerate=48000, nframes=162432, comptype='NONE', compname='not compressed')\n",
      "_wave_params(nchannels=1, sampwidth=2, framerate=48000, nframes=229248, comptype='NONE', compname='not compressed')\n",
      "_wave_params(nchannels=1, sampwidth=2, framerate=48000, nframes=432000, comptype='NONE', compname='not compressed')\n",
      "_wave_params(nchannels=1, sampwidth=2, framerate=48000, nframes=346752, comptype='NONE', compname='not compressed')\n",
      "_wave_params(nchannels=1, sampwidth=2, framerate=48000, nframes=355968, comptype='NONE', compname='not compressed')\n",
      "_wave_params(nchannels=1, sampwidth=2, framerate=48000, nframes=413568, comptype='NONE', compname='not compressed')\n",
      "_wave_params(nchannels=1, sampwidth=2, framerate=48000, nframes=116352, comptype='NONE', compname='not compressed')\n",
      "_wave_params(nchannels=1, sampwidth=2, framerate=48000, nframes=350208, comptype='NONE', compname='not compressed')\n",
      "_wave_params(nchannels=1, sampwidth=2, framerate=48000, nframes=269568, comptype='NONE', compname='not compressed')\n",
      "_wave_params(nchannels=1, sampwidth=2, framerate=48000, nframes=263808, comptype='NONE', compname='not compressed')\n",
      "_wave_params(nchannels=1, sampwidth=2, framerate=48000, nframes=286848, comptype='NONE', compname='not compressed')\n",
      "_wave_params(nchannels=1, sampwidth=2, framerate=48000, nframes=402048, comptype='NONE', compname='not compressed')\n",
      "_wave_params(nchannels=1, sampwidth=2, framerate=48000, nframes=281088, comptype='NONE', compname='not compressed')\n",
      "_wave_params(nchannels=1, sampwidth=2, framerate=48000, nframes=491904, comptype='NONE', compname='not compressed')\n",
      "_wave_params(nchannels=1, sampwidth=2, framerate=48000, nframes=337536, comptype='NONE', compname='not compressed')\n",
      "_wave_params(nchannels=1, sampwidth=2, framerate=48000, nframes=360576, comptype='NONE', compname='not compressed')\n",
      "_wave_params(nchannels=1, sampwidth=2, framerate=48000, nframes=327168, comptype='NONE', compname='not compressed')\n",
      "_wave_params(nchannels=1, sampwidth=2, framerate=48000, nframes=317952, comptype='NONE', compname='not compressed')\n",
      "_wave_params(nchannels=1, sampwidth=2, framerate=48000, nframes=109440, comptype='NONE', compname='not compressed')\n",
      "_wave_params(nchannels=1, sampwidth=2, framerate=48000, nframes=306432, comptype='NONE', compname='not compressed')\n",
      "_wave_params(nchannels=1, sampwidth=2, framerate=48000, nframes=300672, comptype='NONE', compname='not compressed')\n",
      "_wave_params(nchannels=1, sampwidth=2, framerate=48000, nframes=317952, comptype='NONE', compname='not compressed')\n",
      "_wave_params(nchannels=1, sampwidth=2, framerate=48000, nframes=123264, comptype='NONE', compname='not compressed')\n",
      "_wave_params(nchannels=1, sampwidth=2, framerate=48000, nframes=420480, comptype='NONE', compname='not compressed')\n",
      "_wave_params(nchannels=1, sampwidth=2, framerate=48000, nframes=335232, comptype='NONE', compname='not compressed')\n",
      "_wave_params(nchannels=1, sampwidth=2, framerate=48000, nframes=312192, comptype='NONE', compname='not compressed')\n",
      "_wave_params(nchannels=1, sampwidth=2, framerate=48000, nframes=223488, comptype='NONE', compname='not compressed')\n",
      "_wave_params(nchannels=1, sampwidth=2, framerate=48000, nframes=131328, comptype='NONE', compname='not compressed')\n",
      "_wave_params(nchannels=1, sampwidth=2, framerate=48000, nframes=96768, comptype='NONE', compname='not compressed')\n",
      "_wave_params(nchannels=1, sampwidth=2, framerate=48000, nframes=252288, comptype='NONE', compname='not compressed')\n",
      "_wave_params(nchannels=1, sampwidth=2, framerate=48000, nframes=248832, comptype='NONE', compname='not compressed')\n",
      "_wave_params(nchannels=1, sampwidth=2, framerate=48000, nframes=226944, comptype='NONE', compname='not compressed')\n",
      "_wave_params(nchannels=1, sampwidth=2, framerate=48000, nframes=277632, comptype='NONE', compname='not compressed')\n",
      "_wave_params(nchannels=1, sampwidth=2, framerate=48000, nframes=282240, comptype='NONE', compname='not compressed')\n",
      "_wave_params(nchannels=1, sampwidth=2, framerate=48000, nframes=438912, comptype='NONE', compname='not compressed')\n",
      "_wave_params(nchannels=1, sampwidth=2, framerate=48000, nframes=312192, comptype='NONE', compname='not compressed')\n",
      "_wave_params(nchannels=1, sampwidth=2, framerate=48000, nframes=127872, comptype='NONE', compname='not compressed')\n",
      "_wave_params(nchannels=1, sampwidth=2, framerate=48000, nframes=150912, comptype='NONE', compname='not compressed')\n",
      "_wave_params(nchannels=1, sampwidth=2, framerate=48000, nframes=233856, comptype='NONE', compname='not compressed')\n",
      "_wave_params(nchannels=1, sampwidth=2, framerate=48000, nframes=258048, comptype='NONE', compname='not compressed')\n",
      "_wave_params(nchannels=1, sampwidth=2, framerate=48000, nframes=392832, comptype='NONE', compname='not compressed')\n",
      "_wave_params(nchannels=1, sampwidth=2, framerate=48000, nframes=283392, comptype='NONE', compname='not compressed')\n",
      "_wave_params(nchannels=1, sampwidth=2, framerate=48000, nframes=361728, comptype='NONE', compname='not compressed')\n",
      "_wave_params(nchannels=1, sampwidth=2, framerate=48000, nframes=309888, comptype='NONE', compname='not compressed')\n",
      "_wave_params(nchannels=1, sampwidth=2, framerate=48000, nframes=366336, comptype='NONE', compname='not compressed')\n",
      "_wave_params(nchannels=1, sampwidth=2, framerate=48000, nframes=366336, comptype='NONE', compname='not compressed')\n",
      "_wave_params(nchannels=1, sampwidth=2, framerate=48000, nframes=195840, comptype='NONE', compname='not compressed')\n",
      "_wave_params(nchannels=1, sampwidth=2, framerate=48000, nframes=399744, comptype='NONE', compname='not compressed')\n",
      "_wave_params(nchannels=1, sampwidth=2, framerate=48000, nframes=459648, comptype='NONE', compname='not compressed')\n",
      "_wave_params(nchannels=1, sampwidth=2, framerate=48000, nframes=402048, comptype='NONE', compname='not compressed')\n",
      "_wave_params(nchannels=1, sampwidth=2, framerate=48000, nframes=375552, comptype='NONE', compname='not compressed')\n",
      "_wave_params(nchannels=1, sampwidth=2, framerate=48000, nframes=388224, comptype='NONE', compname='not compressed')\n",
      "_wave_params(nchannels=1, sampwidth=2, framerate=48000, nframes=116352, comptype='NONE', compname='not compressed')\n",
      "_wave_params(nchannels=1, sampwidth=2, framerate=48000, nframes=367488, comptype='NONE', compname='not compressed')\n",
      "_wave_params(nchannels=1, sampwidth=2, framerate=48000, nframes=502272, comptype='NONE', compname='not compressed')\n",
      "_wave_params(nchannels=1, sampwidth=2, framerate=48000, nframes=412416, comptype='NONE', compname='not compressed')\n",
      "_wave_params(nchannels=1, sampwidth=2, framerate=48000, nframes=196992, comptype='NONE', compname='not compressed')\n"
     ],
     "output_type": "stream"
    }
   ],
   "source": [
    "import wave\n",
    "\n",
    "# nchannels: 声道\n",
    "# sampwidth: 采样宽度\n",
    "# framerate: 帧速率/采样的频率\n",
    "# nframes: 帧数/采样点个数\n",
    "# comptyoe: 唯一标识\n",
    "# compname: 无损\n",
    "\n",
    "'''\n",
    "每个采样点是16 bit = 2 bytes\n",
    "'''\n",
    "\n",
    "for wav_file in wav_file_list:\n",
    "    with wave.open(os.path.join(wav_path, wav_file), 'rb') as file:\n",
    "        print(file.getparams())"
   ],
   "metadata": {
    "collapsed": false,
    "pycharm": {
     "name": "#%%\n",
     "is_executing": false
    }
   }
  },
  {
   "cell_type": "code",
   "execution_count": 19,
   "outputs": [],
   "source": [
    "import soundfile\n",
    "import numpy as np\n",
    "from matplotlib import pyplot as plt\n",
    "from scipy.io import wavfile\n",
    "\n",
    "def draw(file_path):    \n",
    "    file = wave.open(file_path)\n",
    "    # 采样点个数\n",
    "    a = file.getparams().nframes  \n",
    "    # 采样频率\n",
    "    f = file.getparams().framerate  \n",
    "    # 采样点的时间间隔\n",
    "    sample_time = 1 / f  \n",
    "    # 20毫秒左右\n",
    "    print('一帧持续的时间{}'.format(sample_time))\n",
    "    # 声音信号的长度\n",
    "    time = a / f\n",
    "    \n",
    "    # audio_sequence: 声音信号每一帧的“大小” \n",
    "    sample_frequency, audio_sequence = wavfile.read(file_path)\n",
    "    x_seq = np.arange(0, time, sample_time)\n",
    "    plt.plot(x_seq, audio_sequence, 'blue')\n",
    "    plt.xlabel(\"time (s)\")\n",
    "    plt.show()"
   ],
   "metadata": {
    "collapsed": false,
    "pycharm": {
     "name": "#%%\n",
     "is_executing": false
    }
   }
  },
  {
   "cell_type": "code",
   "execution_count": 20,
   "outputs": [
    {
     "name": "stdout",
     "text": [
      "一帧持续的时间2.0833333333333333e-05\n"
     ],
     "output_type": "stream"
    },
    {
     "data": {
      "text/plain": "<Figure size 432x288 with 1 Axes>",
      "image/png": "[encoded data removed]"
     },
     "metadata": {
      "needs_background": "light"
     },
     "output_type": "display_data"
    }
   ],
   "source": [
    "draw(file_path = os.path.join(wav_path, 'common_voice_zh-CN_18531674.wav'))"
   ],
   "metadata": {
    "collapsed": false,
    "pycharm": {
     "name": "#%%\n",
     "is_executing": false
    }
   }
  },
  {
   "cell_type": "code",
   "execution_count": 21,
   "outputs": [
    {
     "name": "stdout",
     "text": [
      "一帧持续的时间6.25e-05\n"
     ],
     "output_type": "stream"
    },
    {
     "data": {
      "text/plain": "<Figure size 432x288 with 1 Axes>",
      "image/png": "[encoded data removed]"
     },
     "metadata": {
      "needs_background": "light"
     },
     "output_type": "display_data"
    }
   ],
   "source": [
    "draw('/home/wjunneng/Ubuntu/Speech-Recognition/data_aishell/wav/dev/S0724/BAC009S0724W0121.wav')\n"
   ],
   "metadata": {
    "collapsed": false,
    "pycharm": {
     "name": "#%%\n",
     "is_executing": false
    }
   }
  },
  {
   "cell_type": "code",
   "execution_count": null,
   "outputs": [],
   "source": [
    "\n"
   ],
   "metadata": {
    "collapsed": false,
    "pycharm": {
     "name": "#%%\n"
    }
   }
  }
 ],
 "metadata": {
  "kernelspec": {
   "name": "pycharm-272620c7",
   "language": "python",
   "display_name": "PyCharm (SentenceClassification)"
  },
  "language_info": {
   "codemirror_mode": {
    "name": "ipython",
    "version": 2
   },
   "file_extension": ".py",
   "mimetype": "text/x-python",
   "name": "python",
   "nbconvert_exporter": "python",
   "pygments_lexer": "ipython2",
   "version": "2.7.6"
  },
  "pycharm": {
   "stem_cell": {
    "cell_type": "raw",
    "source": [],
    "metadata": {
     "collapsed": false
    }
   }
  }
 },
 "nbformat": 4,
 "nbformat_minor": 0
}